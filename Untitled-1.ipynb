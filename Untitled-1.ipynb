{
 "cells": [
  {
   "cell_type": "code",
   "execution_count": null,
   "metadata": {},
   "outputs": [],
   "source": [
    "from astropy.io import fits\n",
    "fits_table_filename = fits.util.get_testdata_filepath('../data/sfr_fib.fit')\n",
    "\n",
    "hdul = fits.open(fits_table_filename)  # open a FITS file\n",
    "data = hdul[1].data  # assume the first extension is a table\n",
    "# show the first two rows\n",
    "first_two_rows = data[:2]\n",
    "first_two_rows  \n",
    "[(1, 'Sirius', -1.45000005, 'A1V') (2, 'Canopus', -0.73000002, 'F0Ib')]\n",
    "# show the values in field \"mag\"\n",
    "magnitudes = data['mag']\n",
    "magnitudes  \n",
    "array([-1.45000005, -0.73000002, -0.1       ], dtype=float32)\n",
    "# columns can be referenced by index too\n",
    "names = data.field(1)\n",
    "names.tolist() \n",
    "['Sirius', 'Canopus', 'Rigil Kent']\n",
    "hdul.close()"
   ]
  }
 ],
 "metadata": {
  "interpreter": {
   "hash": "1db3a47cba2c6ce045ea11518fcd29a5e2912188819115d3011364d36574451d"
  },
  "kernelspec": {
   "display_name": "Python 3.8.0 32-bit",
   "name": "python3"
  },
  "language_info": {
   "name": "python",
   "version": "3.8.0"
  },
  "orig_nbformat": 4
 },
 "nbformat": 4,
 "nbformat_minor": 2
}
